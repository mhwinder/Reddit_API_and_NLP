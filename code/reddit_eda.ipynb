{
 "cells": [
  {
   "cell_type": "markdown",
   "metadata": {},
   "source": [
    "# Project 3. Web API's and NLP, Reddit EDA\n",
    "\n",
    "This project will collect text data from two parts of reddit.com and create a model to differentiate the two. The subreddit pages to be modeled are r/AskCulinary and r/cookingforbeginners. The data was collected over the holiday Thanksgiving, which is known as a very food centric event in the United States where the majority of reddit users live."
   ]
  },
  {
   "cell_type": "code",
   "execution_count": 1,
   "metadata": {},
   "outputs": [],
   "source": [
    "# Import several libraries to be used in EDA\n",
    "import requests\n",
    "import pandas as pd\n",
    "import time\n",
    "\n",
    "# Define the base URL for data collection\n",
    "url = 'https://api.pushshift.io/reddit/search/submission'"
   ]
  },
  {
   "cell_type": "markdown",
   "metadata": {},
   "source": [
    "## Data Collection\n",
    "\n",
    "An initial scrape of both chosen subreddits is done here. A function is used later on to automate collection of more data from this initial collection. Reddit allows a maximum of 100 posts to be collected which necessitates this process. The final time in the data is 12/1 at midnight and data is collected backward from there to encompass the events around Thanksgiving."
   ]
  },
  {
   "cell_type": "code",
   "execution_count": 2,
   "metadata": {},
   "outputs": [],
   "source": [
    "# Parameters for r/AskCulinary\n",
    "# Thanks to www.epochconverter.com for the epoch value\n",
    "ac_params = {\n",
    "    'subreddit' : 'AskCulinary',\n",
    "    'size' : 100,\n",
    "    'before' : 1606798800\n",
    "}"
   ]
  },
  {
   "cell_type": "code",
   "execution_count": 3,
   "metadata": {},
   "outputs": [],
   "source": [
    "# Parameters for r/cookingforbeginners\n",
    "cfb_params = {\n",
    "    'subreddit' : 'cookingforbeginners',\n",
    "    'size' : 100,\n",
    "    'before' : 1606798800\n",
    "}"
   ]
  },
  {
   "cell_type": "code",
   "execution_count": 4,
   "metadata": {},
   "outputs": [
    {
     "data": {
      "text/plain": [
       "0       Le Creuset enameled cast iron for bread baking\n",
       "1    Does butter belong on the counter or in the fr...\n",
       "2             These are not Croissants 🥐 lmfao help...\n",
       "3                    Is salt considered an ingredient?\n",
       "4               Best way to store hundreds of recipes?\n",
       "Name: title, dtype: object"
      ]
     },
     "execution_count": 4,
     "metadata": {},
     "output_type": "execute_result"
    }
   ],
   "source": [
    "# Collects 100 posts from r/AskCulinary and converts them into a DataFrame\n",
    "res = requests.get(url, ac_params)\n",
    "ac = pd.DataFrame(res.json()['data'])\n",
    "ac['title'].head()"
   ]
  },
  {
   "cell_type": "code",
   "execution_count": 5,
   "metadata": {},
   "outputs": [
    {
     "data": {
      "text/plain": [
       "0    How do you make pan fried chicken crispy inste...\n",
       "1                        Health Benefits of white rice\n",
       "2    The only pot I have is a super old one that's ...\n",
       "3                        Brown Sugar Glazed Spiral Ham\n",
       "4                          Recipes for new appliances?\n",
       "Name: title, dtype: object"
      ]
     },
     "execution_count": 5,
     "metadata": {},
     "output_type": "execute_result"
    }
   ],
   "source": [
    "# Collects 100 posts from r/cookingforbeginners and converts them into a DataFrame\n",
    "res = requests.get(url, cfb_params)\n",
    "cfb = pd.DataFrame(res.json()['data'])\n",
    "cfb['title'].head()"
   ]
  },
  {
   "cell_type": "markdown",
   "metadata": {},
   "source": [
    "This function is used to add more data to an existing scrape of reddit. It is run many times on the same data frame to collect the data needed for the classification model. The volume of posts on these subreddits is such that 3000 posts captures a large period before and after Thanksgiving."
   ]
  },
  {
   "cell_type": "code",
   "execution_count": 6,
   "metadata": {},
   "outputs": [],
   "source": [
    "# This function takes a dataframe of subreddit posts and adds 100 older posts.\n",
    "def scrape_append(df, subred):\n",
    "    url = 'https://api.pushshift.io/reddit/search/submission'\n",
    "    ac_params = {\n",
    "        'subreddit' : subred,\n",
    "        'size' : 100,\n",
    "        'before' : df['created_utc'].iloc[-1]\n",
    "        }\n",
    "    \n",
    "    res = requests.get(url, ac_params)\n",
    "    new_df = pd.DataFrame(res.json()['data'])\n",
    "    \n",
    "    # The function delays here to lessen the impact on reddit.com\n",
    "    time.sleep(3)\n",
    "    \n",
    "    return pd.concat([df, new_df])"
   ]
  },
  {
   "cell_type": "code",
   "execution_count": 7,
   "metadata": {},
   "outputs": [
    {
     "data": {
      "text/plain": [
       "(3100, 74)"
      ]
     },
     "execution_count": 7,
     "metadata": {},
     "output_type": "execute_result"
    }
   ],
   "source": [
    "# Collect over 3000 posts for r/cookingforbeginners\n",
    "for i in range(30):\n",
    "    ac = scrape_append(ac,'AskCulinary')\n",
    "ac.shape"
   ]
  },
  {
   "cell_type": "code",
   "execution_count": 8,
   "metadata": {},
   "outputs": [
    {
     "data": {
      "text/plain": [
       "(3100, 74)"
      ]
     },
     "execution_count": 8,
     "metadata": {},
     "output_type": "execute_result"
    }
   ],
   "source": [
    "# Collect over 3000 posts for r/cookingforbeginners\n",
    "for i in range(30):\n",
    "    cfb = scrape_append(cfb,'cookingforbeginners')\n",
    "cfb.shape"
   ]
  },
  {
   "cell_type": "markdown",
   "metadata": {},
   "source": [
    "## Data Cleaning\n",
    "\n",
    "Begin by removing any duplicate posts in the collected data."
   ]
  },
  {
   "cell_type": "code",
   "execution_count": 9,
   "metadata": {},
   "outputs": [],
   "source": [
    "# Remove any duplicate rows that were collected\n",
    "ac.drop_duplicates('title', inplace=True)\n",
    "cfb.drop_duplicates('title', inplace=True)"
   ]
  },
  {
   "cell_type": "code",
   "execution_count": 10,
   "metadata": {},
   "outputs": [],
   "source": [
    "# The collection has many more columns than I need. Here I remove most of them.\n",
    "my_features = ['author','link_flair_text','num_comments','selftext','subreddit','title','created_utc']\n",
    "ac = ac[my_features]\n",
    "cfb = cfb[my_features]"
   ]
  },
  {
   "cell_type": "markdown",
   "metadata": {},
   "source": [
    "Here I create a few extra columns to help explore the data. I create a column for the number of words in the title, another for the words in the selftext. I also create a column containing both the title and the selftext which will be the document for use in NLP."
   ]
  },
  {
   "cell_type": "code",
   "execution_count": 11,
   "metadata": {},
   "outputs": [],
   "source": [
    "# Create word count features\n",
    "ac['title_word_count'] = [len(t.split(' ')) for t in ac['title']]\n",
    "ac['text_word_count'] = [len(t.split(' ')) for t in ac['selftext'].astype(str)]\n",
    "\n",
    "cfb['title_word_count'] = [len(t.split(' ')) for t in cfb['title']]\n",
    "cfb['text_word_count'] = [len(t.split(' ')) for t in cfb['selftext'].astype(str)]\n",
    "\n",
    "# Create the compound document\n",
    "ac['words'] = [f\"{ac['title'].iloc[i]} {ac['selftext'].iloc[i]}\" \n",
    "                 for i in range(len(ac))]\n",
    "cfb['words'] = [f\"{cfb['title'].iloc[i]} {cfb['selftext'].iloc[i]}\" \n",
    "                 for i in range(len(cfb))]"
   ]
  },
  {
   "cell_type": "markdown",
   "metadata": {},
   "source": [
    "Here I create a DataFrame with all of my data. I continue using the subreddit DataFrames becuase I want to explore the data and create figures."
   ]
  },
  {
   "cell_type": "code",
   "execution_count": 12,
   "metadata": {},
   "outputs": [],
   "source": [
    "# Create a DataFrame with both of my subreddits. This is important for transforming my word vectors.\n",
    "data = pd.concat([ac,cfb])"
   ]
  },
  {
   "cell_type": "code",
   "execution_count": 13,
   "metadata": {},
   "outputs": [
    {
     "data": {
      "text/plain": [
       "(3091, 10)"
      ]
     },
     "execution_count": 13,
     "metadata": {},
     "output_type": "execute_result"
    }
   ],
   "source": [
    "# Quick check on the shape to make sure everything worked properly\n",
    "ac.shape"
   ]
  },
  {
   "cell_type": "code",
   "execution_count": 14,
   "metadata": {},
   "outputs": [
    {
     "data": {
      "text/plain": [
       "(3061, 10)"
      ]
     },
     "execution_count": 14,
     "metadata": {},
     "output_type": "execute_result"
    }
   ],
   "source": [
    "# Quick check on the shape to make sure everything worked properly\n",
    "cfb.shape"
   ]
  },
  {
   "cell_type": "code",
   "execution_count": 15,
   "metadata": {},
   "outputs": [
    {
     "data": {
      "text/plain": [
       "(6152, 10)"
      ]
     },
     "execution_count": 15,
     "metadata": {},
     "output_type": "execute_result"
    }
   ],
   "source": [
    "# Quick check on the shape to make sure everything worked properly\n",
    "data.shape"
   ]
  },
  {
   "cell_type": "markdown",
   "metadata": {},
   "source": [
    "Here I have code to save and load the data. The collection process takes several minutes so it is convenient to save the data here so that I can restart the kernel without having to waste time or bandwidth."
   ]
  },
  {
   "cell_type": "code",
   "execution_count": 16,
   "metadata": {},
   "outputs": [],
   "source": [
    "# Write the collected data to a CSV file.\n",
    "ac.to_csv('./data/ac.csv', index=False)\n",
    "cfb.to_csv('./data/cfb.csv', index=False)\n",
    "data.to_csv('./data/reddit_clean.csv', index=False)"
   ]
  },
  {
   "cell_type": "code",
   "execution_count": 17,
   "metadata": {},
   "outputs": [],
   "source": [
    "# Load the CSV files, this is for convenience because the collection process takes several minutes\n",
    "ac = pd.read_csv('./data/ac.csv')\n",
    "cfb = pd.read_csv('./data/cfb.csv')\n",
    "data = pd.read_csv('./data/reddit_clean.csv')"
   ]
  },
  {
   "cell_type": "markdown",
   "metadata": {},
   "source": [
    "## Data Exploration\n",
    "\n",
    "In this section I will explore the similarities and differences between the two subreddits. The subreddits were chosen because of a very similar subject so special attention is being paid to identify any key differences that the machine learning might be using to construct its model. "
   ]
  },
  {
   "cell_type": "code",
   "execution_count": 18,
   "metadata": {},
   "outputs": [],
   "source": [
    "# Import additional libraries\n",
    "import matplotlib.pyplot as plt\n",
    "import seaborn as sns\n",
    "from sklearn.feature_extraction.text import CountVectorizer"
   ]
  },
  {
   "cell_type": "markdown",
   "metadata": {},
   "source": [
    "Explore the activity of the two subreddits. Posts per day."
   ]
  },
  {
   "cell_type": "code",
   "execution_count": 19,
   "metadata": {},
   "outputs": [],
   "source": [
    "# Create a datetime feature so the plot will be more comprehensable.\n",
    "import datetime\n",
    "\n",
    "ac['dt'] = [datetime.datetime.fromtimestamp(ac['created_utc'].iloc[i]) for i in range(len(ac))]\n",
    "cfb['dt'] = [datetime.datetime.fromtimestamp(cfb['created_utc'].iloc[i]) for i in range(len(cfb))]\n",
    "data['dt'] = [datetime.datetime.fromtimestamp(data['created_utc'].iloc[i]) for i in range(len(data))]"
   ]
  },
  {
   "cell_type": "code",
   "execution_count": 20,
   "metadata": {},
   "outputs": [
    {
     "data": {
      "image/png": "[encoded data removed]",
      "text/plain": [
       "<Figure size 864x576 with 1 Axes>"
      ]
     },
     "metadata": {
      "needs_background": "dark"
     },
     "output_type": "display_data"
    }
   ],
   "source": [
    "# Create a figure showing the activity of each subreddit.\n",
    "plt.figure(figsize=(12,8))\n",
    "plt.hist([ac['dt'], cfb['dt']], \n",
    "         color=['#f0a800','#0080f0'],\n",
    "         bins=20,\n",
    "         label=['AskCulinary','cookingforbeginners'])\n",
    "plt.legend(fontsize=16)\n",
    "plt.ylabel('Number of Posts', fontweight='bold', fontsize=16, color='white')\n",
    "plt.xlabel('', fontsize=16, color='white')\n",
    "plt.xticks(fontsize=16, color='white')\n",
    "plt.yticks(fontsize=16, color='white')\n",
    "\n",
    "plt.savefig(\"./images/Post_date.png\")"
   ]
  },
  {
   "cell_type": "markdown",
   "metadata": {},
   "source": [
    "This figure shows that the AskCulinary subreddit has much higher traffic than cookingforberginners. It also shows I collected much olders posts for cookingforbeginners. There is a conspicuous dip in early november, likely corrisponding to the US Presidential election."
   ]
  },
  {
   "cell_type": "markdown",
   "metadata": {},
   "source": [
    "Here I look for the overlap of users. There exist users who are in both communities and I want to see how much of an intersection there is."
   ]
  },
  {
   "cell_type": "code",
   "execution_count": 21,
   "metadata": {},
   "outputs": [
    {
     "name": "stdout",
     "output_type": "stream",
     "text": [
      "The AskCulinary subreddit has a mean user post of 1.1703900037864445.\n",
      "12 posts have been deleted.\n",
      "kitchenrehab162563 has made 8 posts.\n",
      "2630 unique users.\n",
      "3093 posts were collected.\n",
      "\n",
      "The cookingforbeginners subreddit has a mean user post of 1.3460861917326297.\n",
      "37 posts have been deleted.\n",
      "hurrianawaz has made 53 posts.\n",
      "2263 unique users.\n",
      "3056 posts were collected.\n",
      "\n",
      "57 of 4837 users posted in both subreddits.\n",
      "southerngentleman90 (16, 1), gradstudent1234 (9, 2), bakedbeans18 (9, 2) had the largest combined posts.\n"
     ]
    }
   ],
   "source": [
    "# Collect and print many statistics about the data.\n",
    "ac_mean = ac['author'].value_counts().mean()\n",
    "print(f'The AskCulinary subreddit has a mean user post of {ac_mean}.')\n",
    "print('12 posts have been deleted.')\n",
    "print('kitchenrehab162563 has made 8 posts.')\n",
    "print('2630 unique users.')\n",
    "print('3093 posts were collected.')\n",
    "\n",
    "print('')\n",
    "\n",
    "cfb_mean = cfb['author'].value_counts().mean()\n",
    "\n",
    "print(f'The cookingforbeginners subreddit has a mean user post of {cfb_mean}.')\n",
    "print('37 posts have been deleted.')\n",
    "print('hurrianawaz has made 53 posts.')\n",
    "print('2263 unique users.')\n",
    "print('3056 posts were collected.')\n",
    "\n",
    "print('')\n",
    "\n",
    "print('57 of 4837 users posted in both subreddits.')\n",
    "print('southerngentleman90 (16, 1), gradstudent1234 (9, 2), bakedbeans18 (9, 2) had the largest combined posts.')"
   ]
  },
  {
   "cell_type": "code",
   "execution_count": 22,
   "metadata": {},
   "outputs": [
    {
     "data": {
      "text/plain": [
       "[deleted]             11\n",
       "RationalIdiot          8\n",
       "Rip-Electronic         7\n",
       "kitchenrehab162563     7\n",
       "Metalkon               7\n",
       "Name: author, dtype: int64"
      ]
     },
     "execution_count": 22,
     "metadata": {},
     "output_type": "execute_result"
    }
   ],
   "source": [
    "# Print the top 5 highest posting authors for AskCulinary.\n",
    "ac['author'].value_counts()[:5]"
   ]
  },
  {
   "cell_type": "code",
   "execution_count": 23,
   "metadata": {},
   "outputs": [
    {
     "data": {
      "text/plain": [
       "[deleted]          44\n",
       "bakedbeans18       12\n",
       "gradstudent1234    11\n",
       "inthischef          9\n",
       "Climaxical          8\n",
       "Name: author, dtype: int64"
      ]
     },
     "execution_count": 23,
     "metadata": {},
     "output_type": "execute_result"
    }
   ],
   "source": [
    "# Count posts by users in both groups\n",
    "shared_users = set(ac['author']).intersection(set(cfb['author']))\n",
    "user_filter = [True if name in shared_users else False for name in data['author']]\n",
    "data[user_filter]['author'].value_counts()[:5]"
   ]
  },
  {
   "cell_type": "code",
   "execution_count": 24,
   "metadata": {},
   "outputs": [
    {
     "data": {
      "text/plain": [
       "1085    Quick cooking product survey!\n",
       "3446    Quick cooking product survey!\n",
       "Name: title, dtype: object"
      ]
     },
     "execution_count": 24,
     "metadata": {},
     "output_type": "execute_result"
    }
   ],
   "source": [
    "# Look at a specific authors posts, this is one of the shared users.\n",
    "data[data['author'] == 'Alex-BU']['title']"
   ]
  },
  {
   "cell_type": "markdown",
   "metadata": {},
   "source": [
    "Here I will explore the wordcounts of the two subreddits."
   ]
  },
  {
   "cell_type": "code",
   "execution_count": 25,
   "metadata": {},
   "outputs": [
    {
     "data": {
      "image/png": "[encoded data removed]",
      "text/plain": [
       "<Figure size 432x432 with 1 Axes>"
      ]
     },
     "metadata": {
      "needs_background": "dark"
     },
     "output_type": "display_data"
    }
   ],
   "source": [
    "# Create a histagram of the number of words in the title\n",
    "plt.figure(figsize=(6,6))\n",
    "plt.hist([ac['title_word_count'], cfb['title_word_count']], \n",
    "         color=['#f0a800','#0080f0'],\n",
    "         bins=10,\n",
    "         range=(0,40),\n",
    "         label=['AskCulinary','cookingforbeginners'])\n",
    "plt.legend(fontsize=16)\n",
    "plt.ylabel('Number of Posts', fontweight='bold', fontsize=16, color='white')\n",
    "plt.xlabel('Number of Words Used', fontweight='bold', fontsize=16, color='white')\n",
    "plt.xticks(fontsize=16, color='white')\n",
    "plt.yticks(fontsize=16, color='white')\n",
    "\n",
    "plt.savefig(\"./images/title_word_count.png\")"
   ]
  },
  {
   "cell_type": "markdown",
   "metadata": {},
   "source": [
    "This figure shows that the title length is very similar between both subreddits. The gap between 5-8 is perhaps caused by titles which are brief and titles which are complete sentences, regaurdless of cause the feature is present in both datasets."
   ]
  },
  {
   "cell_type": "code",
   "execution_count": 26,
   "metadata": {},
   "outputs": [
    {
     "data": {
      "image/png": "[encoded data removed]",
      "text/plain": [
       "<Figure size 432x432 with 1 Axes>"
      ]
     },
     "metadata": {
      "needs_background": "dark"
     },
     "output_type": "display_data"
    }
   ],
   "source": [
    "# Create a histagram of the number of words in the selftext\n",
    "plt.figure(figsize=(6,6))\n",
    "plt.hist([ac['text_word_count'], cfb['text_word_count']], \n",
    "         color=['#f0a800','#0080f0'],\n",
    "         bins=10,\n",
    "         range=(2,500),\n",
    "         label=['AskCulinary','cookingforbeginners'])\n",
    "plt.legend(fontsize=16)\n",
    "\n",
    "plt.ylabel('Number of Posts', fontweight='bold', fontsize=16, color='white')\n",
    "plt.xlabel('Number of Words Used', fontweight='bold', fontsize=16, color='white')\n",
    "plt.xticks(fontsize=16, color='white')\n",
    "plt.yticks(fontsize=16, color='white')\n",
    "\n",
    "plt.savefig(\"./images/text_word_count.png\")"
   ]
  },
  {
   "cell_type": "markdown",
   "metadata": {},
   "source": [
    "This figure shows that the word counts for AskCulinary trend smaller than cookingforbeginners. The difference is slight but noticable."
   ]
  },
  {
   "cell_type": "markdown",
   "metadata": {},
   "source": [
    "### Create Word Vectors\n",
    "\n",
    "I will look at the words used in the following section. I will transform the documents into word vectors. Here I create wordvectors with ngrams 1-3."
   ]
  },
  {
   "cell_type": "code",
   "execution_count": 27,
   "metadata": {},
   "outputs": [],
   "source": [
    "# This transforms the words into ngram = 1\n",
    "cvec = CountVectorizer(stop_words='english', max_df=0.9, min_df=10, max_features=10000)\n",
    "cvec.fit(data['words'])\n",
    "\n",
    "mat = cvec.transform(ac['words'])\n",
    "ac_word = pd.DataFrame(mat.todense(),columns=cvec.get_feature_names())\n",
    "\n",
    "mat = cvec.transform(cfb['words'])\n",
    "cfb_word = pd.DataFrame(mat.todense(),columns=cvec.get_feature_names())"
   ]
  },
  {
   "cell_type": "code",
   "execution_count": 28,
   "metadata": {},
   "outputs": [],
   "source": [
    "# This transforms the words into ngram = 2\n",
    "cvec2 = CountVectorizer(stop_words='english', max_df=0.9, min_df=10, ngram_range=(2,2))\n",
    "cvec2.fit(data['words'])\n",
    "\n",
    "mat = cvec2.transform(ac['words'])\n",
    "ac_word2 = pd.DataFrame(mat.todense(),columns=cvec2.get_feature_names())\n",
    "\n",
    "mat = cvec2.transform(cfb['words'])\n",
    "cfb_word2 = pd.DataFrame(mat.todense(),columns=cvec2.get_feature_names())"
   ]
  },
  {
   "cell_type": "code",
   "execution_count": 29,
   "metadata": {},
   "outputs": [],
   "source": [
    "# This transforms the words into ngram = 3\n",
    "cvec3 = CountVectorizer(stop_words='english', max_df=0.9, min_df=10, ngram_range=(3,3))\n",
    "cvec3.fit(data['words'])\n",
    "\n",
    "mat = cvec3.transform(ac['words'])\n",
    "ac_word3 = pd.DataFrame(mat.todense(),columns=cvec3.get_feature_names())\n",
    "\n",
    "mat = cvec3.transform(cfb['words'])\n",
    "cfb_word3 = pd.DataFrame(mat.todense(),columns=cvec3.get_feature_names())"
   ]
  },
  {
   "cell_type": "markdown",
   "metadata": {},
   "source": [
    "Here I will plot the frequency of a selection of words. Word choice is mostly arbitrary, hopefully they are fun and interesting."
   ]
  },
  {
   "cell_type": "code",
   "execution_count": 30,
   "metadata": {},
   "outputs": [],
   "source": [
    "# Create a list of compelling words for the plot. If a word is absent from the dataset there will be an error.\n",
    "plot_words = ['turkey','sauce','burnt','rice', 'thanksgiving','burn',\n",
    "              'cook','chicken','gravy','taste']"
   ]
  },
  {
   "cell_type": "code",
   "execution_count": 31,
   "metadata": {},
   "outputs": [],
   "source": [
    "word_plot_df = pd.DataFrame()\n",
    "word_plot_df['ac'] = ac_word.sum().loc[plot_words].sort_values()\n",
    "word_plot_df['cfb'] = cfb_word.sum().loc[plot_words]"
   ]
  },
  {
   "cell_type": "code",
   "execution_count": 32,
   "metadata": {},
   "outputs": [
    {
     "data": {
      "text/plain": [
       "<Figure size 864x576 with 0 Axes>"
      ]
     },
     "metadata": {},
     "output_type": "display_data"
    },
    {
     "data": {
      "image/png": "[encoded data removed]",
      "text/plain": [
       "<Figure size 864x576 with 1 Axes>"
      ]
     },
     "metadata": {
      "needs_background": "dark"
     },
     "output_type": "display_data"
    }
   ],
   "source": [
    "# Create a plot showing the frequency of words used by subreddit\n",
    "# https://python-graph-gallery.com/11-grouped-barplot/\n",
    "plt.figure(figsize=(12,8))\n",
    "\n",
    "# set width of bar\n",
    "barWidth = 0.45\n",
    " \n",
    "# Set position of bar on X axis\n",
    "rac = [x + barWidth*1.5 for x in range(len(word_plot_df))]\n",
    "rcfb = [x + barWidth*0.5 for x in range(len(word_plot_df))]\n",
    " \n",
    "# Make the plot\n",
    "plt.figure(figsize=(12,8))\n",
    "plt.barh(rac, word_plot_df['ac'], color='#f0a800', height=barWidth, edgecolor='white', label='AskCulinary')\n",
    "plt.barh(rcfb, word_plot_df['cfb'], color='#0080f0', height=barWidth, edgecolor='white', label='cookingforbeginners')\n",
    " \n",
    "# Add xticks on the middle of the group bars\n",
    "plt.xlabel('Number of Times Used', fontweight='bold', fontsize=20, color='white')\n",
    "plt.yticks([r + barWidth for r in range(len(word_plot_df))], word_plot_df.index, fontsize=16, color='white')\n",
    "plt.xticks(fontsize=16, color='white')\n",
    " \n",
    "# Create legend & Show graphic\n",
    "plt.legend(fontsize=20)\n",
    "\n",
    "plt.savefig(\"./images/word_count.png\");"
   ]
  },
  {
   "cell_type": "markdown",
   "metadata": {},
   "source": [
    "This figure shows that there are a few differences between word use in the subreddits. Most notably is in the words 'thanksgiving' 'turkey' and 'gravy', words associated with the holiday."
   ]
  },
  {
   "cell_type": "markdown",
   "metadata": {},
   "source": [
    "The remainder of this notebook is left for the reader to view the top words in each ngram range, just for fun. Your welcome!"
   ]
  },
  {
   "cell_type": "code",
   "execution_count": 33,
   "metadata": {},
   "outputs": [
    {
     "data": {
      "text/plain": [
       "like       1286\n",
       "make       1286\n",
       "just       1148\n",
       "ve         1046\n",
       "recipe      898\n",
       "use         895\n",
       "cooking     735\n",
       "chicken     707\n",
       "time        659\n",
       "cook        647\n",
       "dtype: int64"
      ]
     },
     "execution_count": 33,
     "metadata": {},
     "output_type": "execute_result"
    }
   ],
   "source": [
    "# AskCulinary ngram = 1\n",
    "ac_word.sum().sort_values(ascending=False).head(10)"
   ]
  },
  {
   "cell_type": "code",
   "execution_count": 34,
   "metadata": {},
   "outputs": [
    {
     "data": {
      "text/plain": [
       "make       1279\n",
       "cook       1069\n",
       "like       1038\n",
       "just       1029\n",
       "cooking    1006\n",
       "chicken     954\n",
       "recipe      937\n",
       "add         787\n",
       "use         705\n",
       "ve          697\n",
       "dtype: int64"
      ]
     },
     "execution_count": 34,
     "metadata": {},
     "output_type": "execute_result"
    }
   ],
   "source": [
    "# cookingforbeginners ngram = 1\n",
    "cfb_word.sum().sort_values(ascending=False).head(10)"
   ]
  },
  {
   "cell_type": "code",
   "execution_count": 35,
   "metadata": {},
   "outputs": [
    {
     "data": {
      "text/plain": [
       "https www         261\n",
       "imgur com         155\n",
       "https imgur       143\n",
       "cast iron         142\n",
       "thanks advance    120\n",
       "don know          112\n",
       "amp x200b         105\n",
       "want make          98\n",
       "don want           88\n",
       "ve seen            87\n",
       "dtype: int64"
      ]
     },
     "execution_count": 35,
     "metadata": {},
     "output_type": "execute_result"
    }
   ],
   "source": [
    "# AskCulinary ngram = 2\n",
    "ac_word2.sum().sort_values(ascending=False).head(10)"
   ]
  },
  {
   "cell_type": "code",
   "execution_count": 36,
   "metadata": {},
   "outputs": [
    {
     "data": {
      "text/plain": [
       "https youtu       195\n",
       "https www         149\n",
       "don know          140\n",
       "amp x200b         113\n",
       "salt pepper       113\n",
       "olive oil          97\n",
       "soy sauce          79\n",
       "chicken breast     79\n",
       "imgur com          73\n",
       "want make          73\n",
       "dtype: int64"
      ]
     },
     "execution_count": 36,
     "metadata": {},
     "output_type": "execute_result"
    }
   ],
   "source": [
    "# cookingforbeginners ngram = 2\n",
    "cfb_word2.sum().sort_values(ascending=False).head(10)"
   ]
  },
  {
   "cell_type": "code",
   "execution_count": 37,
   "metadata": {},
   "outputs": [
    {
     "data": {
      "text/plain": [
       "https imgur com          143\n",
       "www youtube com           42\n",
       "https www youtube         42\n",
       "recipe https www          37\n",
       "youtube com watch         35\n",
       "imgur com gallery         26\n",
       "https www amazon          24\n",
       "www seriouseats com       24\n",
       "https www seriouseats     24\n",
       "cast iron pan             21\n",
       "dtype: int64"
      ]
     },
     "execution_count": 37,
     "metadata": {},
     "output_type": "execute_result"
    }
   ],
   "source": [
    "# AskCulinary ngram = 3\n",
    "ac_word3.sum().sort_values(ascending=False).head(10)"
   ]
  },
  {
   "cell_type": "code",
   "execution_count": 38,
   "metadata": {},
   "outputs": [
    {
     "data": {
      "text/plain": [
       "https imgur com                     69\n",
       "www reddit com                      27\n",
       "https www reddit                    27\n",
       "imgur com gallery                   25\n",
       "link https youtu                    24\n",
       "don really know                     18\n",
       "recipe https www                    18\n",
       "reddit com cookingforbeginners      17\n",
       "video link https                    17\n",
       "com cookingforbeginners comments    17\n",
       "dtype: int64"
      ]
     },
     "execution_count": 38,
     "metadata": {},
     "output_type": "execute_result"
    }
   ],
   "source": [
    "# cookingforbeginners ngram = 3\n",
    "cfb_word3.sum().sort_values(ascending=False).head(10)"
   ]
  },
  {
   "cell_type": "code",
   "execution_count": null,
   "metadata": {},
   "outputs": [],
   "source": []
  }
 ],
 "metadata": {
  "kernelspec": {
   "display_name": "Python 3",
   "language": "python",
   "name": "python3"
  },
  "language_info": {
   "codemirror_mode": {
    "name": "ipython",
    "version": 3
   },
   "file_extension": ".py",
   "mimetype": "text/x-python",
   "name": "python",
   "nbconvert_exporter": "python",
   "pygments_lexer": "ipython3",
   "version": "3.8.3"
  }
 },
 "nbformat": 4,
 "nbformat_minor": 4
}
